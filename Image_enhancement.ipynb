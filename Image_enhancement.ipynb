{
 "cells": [
  {
   "cell_type": "markdown",
   "id": "3ef9753f",
   "metadata": {},
   "source": [
    "# You can convert an image in any format to PNG format using the save() method. You just need to pass the PNG image as a parameter to the save() method. The following code converts an image from JPG format to PNG format:"
   ]
  },
  {
   "cell_type": "code",
   "execution_count": 6,
   "id": "51568be5",
   "metadata": {},
   "outputs": [
    {
     "name": "stdout",
     "output_type": "stream",
     "text": [
      "Image successfully converted!\n"
     ]
    }
   ],
   "source": [
    "# Importing Library\n",
    "from PIL import Image\n",
    " \n",
    "# Loading the image\n",
    "image = Image.open('image/cy.jpg')\n",
    " \n",
    "# Converting image from JPG to PNG format\n",
    "image.save(\"image/cyc.png\")\n",
    "print(\"Image successfully converted!\")"
   ]
  },
  {
   "cell_type": "code",
   "execution_count": 5,
   "id": "82fb17e5",
   "metadata": {},
   "outputs": [
    {
     "name": "stdout",
     "output_type": "stream",
     "text": [
      "Image successfully converted!\n"
     ]
    }
   ],
   "source": [
    "# Importing Library\n",
    "from PIL import Image\n",
    " \n",
    "# Loading the image\n",
    "image = Image.open('image/cy1.jpg')\n",
    " \n",
    "# Converting image from JPG to PNG format\n",
    "image.save(\"image/cyc1.png\")\n",
    "print(\"Image successfully converted!\")"
   ]
  },
  {
   "cell_type": "code",
   "execution_count": 16,
   "id": "1e8db7cf",
   "metadata": {},
   "outputs": [
    {
     "name": "stdout",
     "output_type": "stream",
     "text": [
      "Image successfully converted!\n"
     ]
    }
   ],
   "source": [
    "# Importing Library\n",
    "from PIL import Image\n",
    " \n",
    "# Loading the image\n",
    "image = Image.open('image/cyc1.png')\n",
    " \n",
    "# Converting image from JPG to PNG format\n",
    "image.save(\"image/reversed1.jpg\")\n",
    "print(\"Image successfully converted!\")"
   ]
  },
  {
   "cell_type": "markdown",
   "id": "dd374d40",
   "metadata": {},
   "source": [
    "# Step 1: Import the necessary libraries"
   ]
  },
  {
   "cell_type": "code",
   "execution_count": 1,
   "id": "e6e2ab89",
   "metadata": {},
   "outputs": [],
   "source": [
    "import cv2\n",
    "import numpy as np\n",
    "import matplotlib.pyplot as plt"
   ]
  },
  {
   "cell_type": "markdown",
   "id": "09b9d51c",
   "metadata": {},
   "source": [
    "# Step 2: Load the image and display the sample image."
   ]
  },
  {
   "cell_type": "code",
   "execution_count": 13,
   "id": "1dc7d576",
   "metadata": {},
   "outputs": [
    {
     "ename": "TypeError",
     "evalue": "'numpy.ndarray' object is not callable",
     "output_type": "error",
     "traceback": [
      "\u001b[1;31m---------------------------------------------------------------------------\u001b[0m",
      "\u001b[1;31mTypeError\u001b[0m                                 Traceback (most recent call last)",
      "Cell \u001b[1;32mIn[13], line 3\u001b[0m\n\u001b[0;32m      1\u001b[0m img\u001b[38;5;241m=\u001b[39m cv2\u001b[38;5;241m.\u001b[39mimread(\u001b[38;5;124m'\u001b[39m\u001b[38;5;124mimage/cyc.png\u001b[39m\u001b[38;5;124m'\u001b[39m)\n\u001b[0;32m      2\u001b[0m img1\u001b[38;5;241m=\u001b[39mcv2\u001b[38;5;241m.\u001b[39mimread(\u001b[38;5;124m'\u001b[39m\u001b[38;5;124mimage/cyc1.png\u001b[39m\u001b[38;5;124m'\u001b[39m)\n\u001b[1;32m----> 3\u001b[0m images\u001b[38;5;241m=\u001b[39mnp\u001b[38;5;241m.\u001b[39mconcatenate(\u001b[43mimg\u001b[49m\u001b[43m(\u001b[49m\u001b[43mimg\u001b[49m\u001b[43m,\u001b[49m\u001b[43mimg1\u001b[49m\u001b[43m)\u001b[49m,axis\u001b[38;5;241m=\u001b[39m\u001b[38;5;241m1\u001b[39m)\n\u001b[0;32m      4\u001b[0m cv2\u001b[38;5;241m.\u001b[39mimshow(\u001b[38;5;124m\"\u001b[39m\u001b[38;5;124mImages\u001b[39m\u001b[38;5;124m\"\u001b[39m,images)\n\u001b[0;32m      5\u001b[0m cv2\u001b[38;5;241m.\u001b[39mwaitKey(\u001b[38;5;241m0\u001b[39m)\n",
      "\u001b[1;31mTypeError\u001b[0m: 'numpy.ndarray' object is not callable"
     ]
    }
   ],
   "source": [
    "img= cv2.imread('image/cyc.png')\n",
    "img1=cv2.imread('image/cyc1.png')\n",
    "images=np.concatenate(img(img,img1),axis=1)\n",
    "cv2.imshow(\"Images\",images)\n",
    "cv2.waitKey(0)\n",
    "cv2.destroyAllWindows()"
   ]
  },
  {
   "cell_type": "markdown",
   "id": "2f07e368",
   "metadata": {},
   "source": [
    "# image enhancement using python library"
   ]
  },
  {
   "cell_type": "code",
   "execution_count": 5,
   "id": "8415f42b",
   "metadata": {},
   "outputs": [],
   "source": [
    "#ImageFilter Class \n",
    "#Filter method\n",
    "from PIL import Image, ImageFilter\n",
    "img = Image.open('image/low_r3.jpg')\n",
    "enc_img = img.filter(ImageFilter.DETAIL)\n",
    "\n",
    "enc_img.show()\n",
    "\n",
    "\n"
   ]
  },
  {
   "cell_type": "code",
   "execution_count": 14,
   "id": "bc48628e",
   "metadata": {},
   "outputs": [],
   "source": [
    "#ImageEnhance Class\n",
    "#enhance method\n",
    "from PIL import Image, ImageEnhance\n",
    "img = Image.open('image/low_r3.jpg')\n",
    "img_con = ImageEnhance.Contrast(img)\n",
    "img_con.enhance(1.3).show(\"90% more contrast\")"
   ]
  },
  {
   "cell_type": "code",
   "execution_count": null,
   "id": "e6d34fe6",
   "metadata": {},
   "outputs": [],
   "source": []
  }
 ],
 "metadata": {
  "kernelspec": {
   "display_name": "Python 3 (ipykernel)",
   "language": "python",
   "name": "python3"
  },
  "language_info": {
   "codemirror_mode": {
    "name": "ipython",
    "version": 3
   },
   "file_extension": ".py",
   "mimetype": "text/x-python",
   "name": "python",
   "nbconvert_exporter": "python",
   "pygments_lexer": "ipython3",
   "version": "3.10.9"
  }
 },
 "nbformat": 4,
 "nbformat_minor": 5
}
